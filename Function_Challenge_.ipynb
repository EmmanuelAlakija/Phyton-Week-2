{
  "cells": [
    {
      "cell_type": "markdown",
      "metadata": {
        "id": "ucE_PVEmzazs"
      },
      "source": [
        "### QUESTION 1\n",
        "\n",
        "Write a python function named `is_palindrome` that takes an argument (a string) checks if the input string is a palindrome. The function should return `True` or `False`\n",
        "\n",
        "`palindrome`: a word is `palindrom` if it reads the same backward. E.g `madam`\n",
        "\n",
        "HINT: use the python `input` function to get an input."
      ]
    },
    {
      "cell_type": "code",
      "execution_count": 1,
      "metadata": {
        "id": "MqpHqEFS3xtc"
      },
      "outputs": [
        {
          "name": "stdout",
          "output_type": "stream",
          "text": [
            "True\n",
            "True\n",
            "False\n"
          ]
        }
      ],
      "source": [
        "def is_palindrome(text):\n",
        " \n",
        "  # Making the text lowercase and remove all non-alphanumeric characters.\n",
        "  text = ''.join(char.lower() for char in text if char.isalnum())\n",
        "\n",
        "  # Checking if the reversed text is equal to the original text.\n",
        "  return text == text[::-1]\n",
        "\n",
        "# Testing the function with some example strings\n",
        "print(is_palindrome(\"madam\"))  # True\n",
        "print(is_palindrome(\"racecar\"))  # True\n",
        "print(is_palindrome(\"hello\"))  # False\n"
      ]
    },
    {
      "cell_type": "markdown",
      "metadata": {
        "id": "E6nd8ZIczixT"
      },
      "source": [
        "### QUESTION 2\n",
        "\n",
        "If a valid email is known to have a mix of characters and numbers and then ends with `@edibrige.ng`, e.g `nnebaba123@edubridge.ng`.\n",
        "<br/>\n",
        "Write a functon named `is_valid_email` that accepts an email as an input argument and then check if the email is valid based on the condition above.\n",
        "\n"
      ]
    },
    {
      "cell_type": "code",
      "execution_count": 1,
      "metadata": {
        "id": "F0jTBpfs2YzM"
      },
      "outputs": [
        {
          "name": "stdout",
          "output_type": "stream",
          "text": [
            "True\n",
            "True\n",
            "False\n",
            "False\n"
          ]
        }
      ],
      "source": [
        "# SOLUTION\n",
        "import re\n",
        "\n",
        "def is_valid_email(email):\n",
        "    # Definining the regex pattern for the valid email\n",
        "    pattern = r'^[a-zA-Z0-9]+@[eE][dD][uU][bB][rR][iI][dD][gG][eE]\\.[nN][gG]$'\n",
        "    \n",
        "    # Using re.match to check if the email matches the pattern\n",
        "    if re.match(pattern, email):\n",
        "        return True\n",
        "    else:\n",
        "        return False\n",
        "\n",
        "# Example usage:\n",
        "print(is_valid_email(\"nnebaba123@edubridge.ng\")) \n",
        "print(is_valid_email(\"example@edubridge.ng\"))    \n",
        "print(is_valid_email(\"invalid-email@domain.com\"))\n",
        "print(is_valid_email(\"user@edubridge.com\"))\n"
      ]
    },
    {
      "cell_type": "markdown",
      "metadata": {
        "id": "EgExjLVPzi-Q"
      },
      "source": [
        "### QUESTION 3\n",
        "\n",
        "Given a list of numbers that are perfect squares between 1 and 40 `[1, 2, 4, 16, 25, 36]`.\n",
        "<br>\n",
        "Write a python function that accepts an input argument (any number between 1 and 40) and then checks if the number is a perfect square."
      ]
    },
    {
      "cell_type": "code",
      "execution_count": 3,
      "metadata": {
        "id": "v8dGOkR56rkG"
      },
      "outputs": [
        {
          "name": "stdout",
          "output_type": "stream",
          "text": [
            "True\n",
            "False\n",
            "False\n",
            "True\n"
          ]
        }
      ],
      "source": [
        "# SOLUTION\n",
        "def is_perfect_square(number):\n",
        " \n",
        "  # Checking if the number is negative (perfect squares cannot be negative)\n",
        "  if number < 0:\n",
        "    return False\n",
        "\n",
        "  # checking if the square root is an integer using modulo (%)\n",
        "  return int(number**0.5) ** 2 == number\n",
        "\n",
        "# Test the function with some example numbers\n",
        "print(is_perfect_square(9))  # True\n",
        "print(is_perfect_square(11))  # False (not a perfect square)\n",
        "print(is_perfect_square(40))  # True\n",
        "print(is_perfect_square(121))  # True\n"
      ]
    },
    {
      "cell_type": "markdown",
      "metadata": {
        "id": "WFU5xhYezjGh"
      },
      "source": [
        "### QUESTION 4\n",
        "\n",
        "Given a string, check if an input string is a substring of the given string?\n",
        "<br/><br/>\n",
        "E.g `word = authenticate`\n",
        "<br>Now if a user input the word `the`, We can say that the word `the` is a substring of the word `authenticate` because it's contained in it.\n",
        "\n"
      ]
    },
    {
      "cell_type": "code",
      "execution_count": 5,
      "metadata": {
        "id": "p2Ajj7I66u8t"
      },
      "outputs": [
        {
          "name": "stdout",
          "output_type": "stream",
          "text": [
            "Is 'the' a substring of 'authenticate'? True\n",
            "Is 'entic' a substring of 'authenticate'? True\n",
            "Is 'xyz' a substring of 'authenticate'? False\n"
          ]
        }
      ],
      "source": [
        "# SOLUTION\n",
        "def is_substring(text, sub):\n",
        "\n",
        "  return text.find(sub) != -1\n",
        "\n",
        "# Testing the function with some examples\n",
        "text = \"authenticate\"\n",
        "substrings = [\"the\", \"entic\", \"xyz\"]\n",
        "\n",
        "for sub in substrings:\n",
        "  print(f\"Is '{sub}' a substring of '{text}'? {is_substring(text, sub)}\")\n",
        "\n"
      ]
    },
    {
      "cell_type": "markdown",
      "metadata": {
        "id": "zRe7O814zjU9"
      },
      "source": [
        "### QUESTION 5\n",
        "\n",
        "Write a Python program that takes in a number input. If the number is a multiples of three print `\"Fizz\"` instead of the number and for multiples of five print `\"Buzz\"`. For numbers that are multiples of three and five, print `\"FizzBuzz\"`.\n",
        "\n",
        "**HINT**: *requires type casting for your input.*"
      ]
    },
    {
      "cell_type": "code",
      "execution_count": 1,
      "metadata": {
        "id": "lvztCP-Z6xqG"
      },
      "outputs": [
        {
          "name": "stdout",
          "output_type": "stream",
          "text": [
            "Buzz\n"
          ]
        }
      ],
      "source": [
        "# SOLUTION\n",
        "def fizzbuzz(number):\n",
        "\n",
        "  # Converting input to integer (considering potential string input)\n",
        "  number = int(number)\n",
        "\n",
        "  if number % 3 == 0 and number % 5 == 0:\n",
        "    print(\"FizzBuzz\")\n",
        "  elif number % 3 == 0:\n",
        "    print(\"Fizz\")\n",
        "  elif number % 5 == 0:\n",
        "    print(\"Buzz\")\n",
        "  else:\n",
        "    print(number)\n",
        "\n",
        "# Getting user input\n",
        "user_input = input(\"Enter a number: \")\n",
        "\n",
        "# Calling the function with the converted input\n",
        "fizzbuzz(user_input)\n",
        "\n"
      ]
    },
    {
      "cell_type": "markdown",
      "metadata": {
        "id": "bUWNERA_zjgI"
      },
      "source": [
        "### QUESTION 6\n",
        "\n",
        "Given a year input, Is the year a leap year?\n",
        "\n",
        "Reference: in the Gregorian calendar, each leap year has 366 days instead of 365, by extending February to 29 days rather than the common 28. This extra leap day occurs in each year that is an integer multiple of `4` (except for years evenly divisible by `100`, but not by `400`). A leap year of 366 days has 52 weeks and two days, hence the year following a leap year will start later by two days of the week."
      ]
    },
    {
      "cell_type": "code",
      "execution_count": 2,
      "metadata": {
        "id": "HYVZhb9Q7A6E"
      },
      "outputs": [
        {
          "name": "stdout",
          "output_type": "stream",
          "text": [
            "2024 is a leap year.\n"
          ]
        }
      ],
      "source": [
        "# SOLUTION\n",
        "\n",
        "def is_leap_year(year):\n",
        "\n",
        "  # A year is a leap year if it is divisible by 4 but not by 100,\n",
        "  # or if it is divisible by 400.\n",
        "  return (year % 4 == 0 and year % 100 != 0) or year % 400 == 0\n",
        "\n",
        "# Example year \n",
        "year = 2024\n",
        "\n",
        "if is_leap_year(year):\n",
        "  print(f\"{year} is a leap year.\")\n",
        "else:\n",
        "  print(f\"{year} is not a leap year.\")\n",
        "\n"
      ]
    },
    {
      "cell_type": "markdown",
      "metadata": {
        "id": "03oqByaSzj1b"
      },
      "source": [
        "### QUESTION 7\n",
        "\n",
        "Write a program that prints:\n",
        "<br/>\n",
        "`\"Fail\"` if an input score is less than 45  or<br/> `\"Pass\"` if the score is between (45 and 50), or <br/>`\"Good\"` if it is between (51 and 60)\n",
        "<br/>`\"Very Good\"` if it is between (61 and 70) else <br/>`\"Excellent\"` if the number greater than 70."
      ]
    },
    {
      "cell_type": "code",
      "execution_count": 3,
      "metadata": {
        "id": "VUmcOZXQ7Dj_"
      },
      "outputs": [
        {
          "name": "stdout",
          "output_type": "stream",
          "text": [
            "Your grade is: Fail\n"
          ]
        }
      ],
      "source": [
        "# SOLUTION\n",
        "def determine_grade(score):\n",
        "\n",
        "  if score < 0 or score > 100:\n",
        "    return \"Invalid score. Please enter a score between 0 and 100.\"\n",
        "  elif score < 45:\n",
        "    return \"Fail\"\n",
        "  elif score <= 50:\n",
        "    return \"Pass\"\n",
        "  elif score <= 60:\n",
        "    return \"Good\"\n",
        "  elif score <= 70:\n",
        "    return \"Very Good\"\n",
        "  else:\n",
        "    return \"Excellent\"\n",
        "\n",
        "# Getting user input\n",
        "score = float(input(\"Enter your score (0-100): \"))\n",
        "\n",
        "# Determining and print the grade\n",
        "grade = determine_grade(score)\n",
        "print(f\"Your grade is: {grade}\")\n",
        "\n"
      ]
    },
    {
      "cell_type": "markdown",
      "metadata": {
        "id": "9W92m74azj-C"
      },
      "source": [
        "### QUESTION 8\n",
        "\n",
        "Given two different list below, Convert them to a dictionary:<br/>\n",
        "`keys = ['Ten', 'Twenty', 'Thirty']`\n",
        "`values = [10, 20, 30]`\n",
        "<br/> <br/>Expected output is: `{'Ten': 10, 'Twenty': 20, 'Thirty': 30}`\n",
        "<br/><br/>**HINT**: use the python `zip` function and then cast the result of the function to accomplish your desired output. You can check `help(zip)`"
      ]
    },
    {
      "cell_type": "code",
      "execution_count": 4,
      "metadata": {
        "id": "mSGZS6Jk7FwE"
      },
      "outputs": [
        {
          "name": "stdout",
          "output_type": "stream",
          "text": [
            "{'Ten': 10, 'Twenty': 20, 'Thirty': 30}\n"
          ]
        }
      ],
      "source": [
        "# SOLUTION\n",
        "keys = ['Ten', 'Twenty', 'Thirty']\n",
        "values = [10, 20, 30]\n",
        "\n",
        "# Creating a dictionary using zip and dict functions\n",
        "my_dict = dict(zip(keys, values))\n",
        "\n",
        "# Print the dictionary\n",
        "print(my_dict)\n"
      ]
    },
    {
      "cell_type": "markdown",
      "metadata": {
        "id": "rD-5381wzkFz"
      },
      "source": [
        "### QUESTION 9\n",
        "\n",
        "Merge the two Python dictionaries below\n",
        "<br/>`dict1 = {'Ten': 10, 'Twenty': 20, 'Thirty': 30}`<br/>\n",
        "`dict2 = {'Thirty': 30, 'Fourty': 40, 'Fifty': 50}`\n",
        "<br/>Expected output is: `{'Ten': 10, 'Twenty': 20, 'Thirty': 30, 'Fourty': 40, 'Fifty': 50}`\n",
        "\n",
        "<br/><br/>**HINT**: you can check `help(dict)` to identify dict method that will help you achieve solution to the problem."
      ]
    },
    {
      "cell_type": "code",
      "execution_count": 5,
      "metadata": {
        "id": "P7bsV-C37IJr"
      },
      "outputs": [
        {
          "name": "stdout",
          "output_type": "stream",
          "text": [
            "{'Ten': 10, 'Twenty': 20, 'Thirty': 30, 'Fourty': 40, 'Fifty': 50}\n"
          ]
        }
      ],
      "source": [
        "# SOLUTION\n",
        "dict1 = {'Ten': 10, 'Twenty': 20, 'Thirty': 30}\n",
        "dict2 = {'Thirty': 30, 'Fourty': 40, 'Fifty': 50}\n",
        "\n",
        "# Merging dictionaries using dict constructor and union operator (Python 3.9+)\n",
        "merged_dict = dict(dict1 | dict2)\n",
        "\n",
        "print(merged_dict)\n"
      ]
    },
    {
      "cell_type": "markdown",
      "metadata": {
        "id": "tujWJvlxzkNQ"
      },
      "source": [
        "### QUESTION 10\n",
        "Print out all the keys from the given dictionary `sample_dict = {'a': 100, 'b': 200, 'c': 300}` as a list.\n",
        "<br>\n",
        "Expected Output: `['a', 'b', 'c']`"
      ]
    },
    {
      "cell_type": "code",
      "execution_count": 6,
      "metadata": {
        "id": "GT5fPhTs7KTC"
      },
      "outputs": [
        {
          "name": "stdout",
          "output_type": "stream",
          "text": [
            "{'Ten': 10, 'Twenty': 20, 'Thirty': 30, 'Fourty': 40, 'Fifty': 50}\n"
          ]
        }
      ],
      "source": [
        "# SOLUTION\n",
        "dict1 = {'Ten': 10, 'Twenty': 20, 'Thirty': 30}\n",
        "dict2 = {'Thirty': 30, 'Fourty': 40, 'Fifty': 50}\n",
        "\n",
        "# Creating a copy of dict1 to avoid modifying the original\n",
        "merged_dict = dict1.copy()\n",
        "merged_dict.update(dict2)\n",
        "\n",
        "print(merged_dict)\n",
        "\n"
      ]
    },
    {
      "cell_type": "markdown",
      "metadata": {
        "id": "zu7Lb3GfQZwC"
      },
      "source": [
        "### QUESTION 11\n",
        "\n",
        "Print out all the values from a givsen dictionary\n",
        "`sample_dict = {'a': 100, 'b': 200, 'c': 300}` as a list.\n",
        "<br>\n",
        "Expected Output: `[100, 200, 300]`"
      ]
    },
    {
      "cell_type": "code",
      "execution_count": 7,
      "metadata": {
        "id": "FOh0lrewzV3L"
      },
      "outputs": [
        {
          "name": "stdout",
          "output_type": "stream",
          "text": [
            "[100, 200, 300]\n"
          ]
        }
      ],
      "source": [
        "# SOLUTION\n",
        "sample_dict = {'a': 100, 'b': 200, 'c': 300}\n",
        "\n",
        "# Getting all values from the dictionary\n",
        "values_list = list(sample_dict.values())\n",
        "\n",
        "print(values_list)\n"
      ]
    },
    {
      "cell_type": "markdown",
      "metadata": {
        "id": "fm_7DyH4Q6Ab"
      },
      "source": [
        "### QUESTION 12\n",
        "\n",
        "Given: `sample_dict = {'a': 100, 'b': 200, 'c': 300}`. Ask a user for an input. If the input is a value present in the `sample_dict` dictionary, print the number with some text.\n",
        "E.g, if input is `200`,<br>\n",
        "Expected output: `200 is a value present in the dicitonary.`"
      ]
    },
    {
      "cell_type": "code",
      "execution_count": 8,
      "metadata": {
        "id": "FWFvwNLWQ5N8"
      },
      "outputs": [
        {
          "name": "stdout",
          "output_type": "stream",
          "text": [
            "200 is a value present in the dictionary.\n"
          ]
        }
      ],
      "source": [
        "# SOLUTION\n",
        "sample_dict = {'a': 100, 'b': 200, 'c': 300}\n",
        "\n",
        "# Getting user input (converted to integer for value comparison)\n",
        "user_input = int(input(\"Enter a number: \"))\n",
        "\n",
        "# Checking if the input is present in the dictionary values\n",
        "if user_input in sample_dict.values():\n",
        "  print(f\"{user_input} is a value present in the dictionary.\")\n",
        "else:\n",
        "  print(f\"{user_input} is not present in the dictionary.\")\n"
      ]
    },
    {
      "cell_type": "markdown",
      "metadata": {
        "id": "beLkIUOhR29y"
      },
      "source": [
        "### QUESTION 13\n",
        "\n",
        "Get the key of a minimum value from the following dictionary\n",
        "`sample_dict = {'Physics': 82, 'Math': 65 'history': 75}`\n",
        "\n",
        "<br>Expected Output: `Math`"
      ]
    },
    {
      "cell_type": "code",
      "execution_count": 9,
      "metadata": {
        "id": "BzQwuqHQR1DP"
      },
      "outputs": [
        {
          "name": "stdout",
          "output_type": "stream",
          "text": [
            "Math\n"
          ]
        }
      ],
      "source": [
        "# SOLUTION\n",
        "sample_dict = {'Physics': 82, 'Math': 65, 'History': 75}\n",
        "\n",
        "# Getting the minimum value from the dictionary\n",
        "min_value = min(sample_dict.values())\n",
        "\n",
        "# Finding the key associated with the minimum value\n",
        "min_key = [key for key, value in sample_dict.items() if value == min_value][0]\n",
        "\n",
        "print(min_key)\n"
      ]
    },
    {
      "cell_type": "markdown",
      "metadata": {
        "id": "pztPTTjRS-Xb"
      },
      "source": [
        "### QUESTION 14\n",
        "\n",
        "Write a program to rename a key city to a location in the following dictionary.\n",
        "<BR>\n",
        "Given: `sample_dict = {\"name\": \"Kelly\", \"age\":25, \"salary\": 8000, \"city\": \"New york\"}`\n",
        "\n",
        "<br>Expected Output: `{'name': 'Kelly', 'age': 25, 'salary': 8000, 'location': 'New york'}`"
      ]
    },
    {
      "cell_type": "code",
      "execution_count": 10,
      "metadata": {},
      "outputs": [
        {
          "name": "stdout",
          "output_type": "stream",
          "text": [
            "{'name': 'Kelly', 'age': 25, 'salary': 8000, 'location': 'New york'}\n"
          ]
        }
      ],
      "source": [
        "sample_dict = {\"name\": \"Kelly\", \"age\": 25, \"salary\": 8000, \"city\": \"New york\"}\n",
        "\n",
        "# Renaming the key \"city\" to \"location\"\n",
        "sample_dict[\"location\"] = sample_dict.pop(\"city\")\n",
        "\n",
        "# Print the modified dictionary\n",
        "print(sample_dict)\n",
        "\n"
      ]
    },
    {
      "cell_type": "markdown",
      "metadata": {
        "id": "Tzuz63jvTHK6"
      },
      "source": [
        "### QUESTION 15\n",
        "\n",
        "Write a program to unpack the following tuple into four variables and display each variable.\n",
        "<br>\n",
        "Given: `tuple1 = (10, 20, 30, 40)`\n",
        "<br/>Expected output:\n",
        ">> print(a) # should print 10 <br/>\n",
        ">> print(b) # should print 20 <br/>\n",
        ">> print(c) # should print 30 <br/>\n",
        ">> print(d) # should print 40 <br/>\n",
        "\n"
      ]
    },
    {
      "cell_type": "code",
      "execution_count": 11,
      "metadata": {
        "id": "XBdgWQQbU_nG"
      },
      "outputs": [
        {
          "name": "stdout",
          "output_type": "stream",
          "text": [
            "10\n",
            "20\n",
            "30\n",
            "40\n"
          ]
        }
      ],
      "source": [
        "# SOLUTION\n",
        "tuple1 = (10, 20, 30, 40)\n",
        "\n",
        "# Unpack the tuple into variables a, b, c, and d\n",
        "a, b, c, d = tuple1\n",
        "\n",
        "# Print the variables\n",
        "print(a)  # Output: 10\n",
        "print(b)  # Output: 20\n",
        "print(c)  # Output: 30\n",
        "print(d)  # Output: 40\n"
      ]
    },
    {
      "cell_type": "markdown",
      "metadata": {
        "id": "fTBkgL-URABj"
      },
      "source": [
        "### QUESTION 16\n",
        "\n",
        "Swap two tuples in Python\n",
        "Given: <br>`tuple1 = (11, 22)`, <br>`tuple2 = (99, 88)`\n",
        "\n",
        "Expected Output: <br>`tuple1: (99, 88)`\n",
        "<br>`tuple2: (11, 22)`\n"
      ]
    },
    {
      "cell_type": "code",
      "execution_count": 12,
      "metadata": {
        "id": "APP_aVq8Ve9j"
      },
      "outputs": [
        {
          "name": "stdout",
          "output_type": "stream",
          "text": [
            "tuple1: (99, 88)\n",
            "tuple2: (11, 22)\n"
          ]
        }
      ],
      "source": [
        "# SOLUTION\n",
        "tuple1 = (11, 22)\n",
        "tuple2 = (99, 88)\n",
        "\n",
        "# Creating temporary variables to hold the values\n",
        "temp = tuple1\n",
        "\n",
        "# Reassigning tuples using temporary variables\n",
        "tuple1 = tuple2\n",
        "tuple2 = temp\n",
        "\n",
        "# Print the modified tuples\n",
        "print(f\"tuple1: {tuple1}\")\n",
        "print(f\"tuple2: {tuple2}\")\n"
      ]
    },
    {
      "cell_type": "markdown",
      "metadata": {
        "id": "sqUCmE-mWQi9"
      },
      "source": [
        "### QUESTION 17\n",
        "\n",
        "Sort a tuple of tuples by 2nd item\n",
        "<BR>\n",
        "Given:tuple1 = `(('a', 23),('b', 37),('c', 11), ('d',29))`\n",
        "\n",
        "<BR>Expected output: `(('c', 11), ('a', 23), ('d', 29), ('b', 37))`"
      ]
    },
    {
      "cell_type": "code",
      "execution_count": 13,
      "metadata": {
        "id": "ICYx637TWPWk"
      },
      "outputs": [
        {
          "name": "stdout",
          "output_type": "stream",
          "text": [
            "[('c', 11), ('a', 23), ('d', 29), ('b', 37)]\n"
          ]
        }
      ],
      "source": [
        "# SOLUTION\n",
        "tuple1 = (('a', 23), ('b', 37), ('c', 11), ('d', 29))\n",
        "\n",
        "# Sorting the tuple by the 2nd item (index 1) using sorted() and key function\n",
        "sorted_tuple = sorted(tuple1, key=lambda x: x[1])\n",
        "\n",
        "print(sorted_tuple)\n"
      ]
    },
    {
      "cell_type": "markdown",
      "metadata": {
        "id": "yOpkUhE8XIAm"
      },
      "source": [
        "### QUESTION 18\n",
        "\n",
        "print a new set of identical items from two sets\n",
        "Given:<BR>\n",
        "`set1 = {10, 20, 30, 40, 50}`<BR>\n",
        "`set2 = {30, 40, 50, 60, 70}`\n",
        "<BR>Expected output: `{40, 50, 30}`\n",
        "\n",
        "**HINT**: *set method will do the workings for you.*"
      ]
    },
    {
      "cell_type": "code",
      "execution_count": 14,
      "metadata": {
        "colab": {
          "base_uri": "https://localhost:8080/"
        },
        "id": "71K0QmRMXHGy",
        "outputId": "3e0f5a4b-d2f3-403b-ca30-dff7758f043e"
      },
      "outputs": [
        {
          "name": "stdout",
          "output_type": "stream",
          "text": [
            "New set of identical items: {40, 50, 30}\n"
          ]
        }
      ],
      "source": [
        "# SOLUTION\n",
        "def find_identical_items(set1, set2):\n",
        "    identical_items = set1.intersection(set2)\n",
        "    return identical_items\n",
        "\n",
        "# Given sets\n",
        "set1 = {10, 20, 30, 40, 50}\n",
        "set2 = {30, 40, 50, 60, 70}\n",
        "\n",
        "# Find the identical items\n",
        "identical_items = find_identical_items(set1, set2)\n",
        "\n",
        "# Print the new set of identical items\n",
        "print(\"New set of identical items:\", identical_items)"
      ]
    },
    {
      "cell_type": "markdown",
      "metadata": {
        "id": "ecK1rgj_QRkY"
      },
      "source": [
        "**COMMENT:** Great"
      ]
    },
    {
      "cell_type": "markdown",
      "metadata": {
        "id": "lS3Is27FY0Cw"
      },
      "source": [
        "### QUESTION 19\n",
        "\n",
        "Given two Python sets, write a Python program to update the first set with items that exist only in the first set and not in the second set.\n",
        "\n",
        "<BR>Given:\n",
        "<BR>\n",
        "`set1 = {10, 20, 30}`<BR>\n",
        "`set2 = {20, 40, 50}`<BR>\n",
        "Expected output: `set1 {10, 30}`\n",
        "\n",
        "**HINT**: *set method will do the workings for you.*"
      ]
    },
    {
      "cell_type": "code",
      "execution_count": 15,
      "metadata": {
        "colab": {
          "base_uri": "https://localhost:8080/"
        },
        "id": "tl4MVvSlYy76",
        "outputId": "229548e8-1a37-4f17-9e16-f82c33a26107"
      },
      "outputs": [
        {
          "name": "stdout",
          "output_type": "stream",
          "text": [
            "Updated set1: {10, 30}\n"
          ]
        }
      ],
      "source": [
        "# SOLUTION\n",
        "\n",
        "def update_set_difference(set1, set2):\n",
        "    set1.difference_update(set2)\n",
        "\n",
        "# Given sets\n",
        "set1 = {10, 20, 30}\n",
        "set2 = {20, 40, 50}\n",
        "\n",
        "# Update set1 with items that exist only in set1 and not in set2\n",
        "update_set_difference(set1, set2)\n",
        "\n",
        "# Print the updated set1\n",
        "print(\"Updated set1:\", set1)\n"
      ]
    },
    {
      "cell_type": "markdown",
      "metadata": {
        "id": "Csw0EX4FQXbV"
      },
      "source": [
        "**COMMENT:** Great"
      ]
    },
    {
      "cell_type": "markdown",
      "metadata": {
        "id": "jTdw5ITfbCrr"
      },
      "source": [
        "### QUESTION 20\n",
        "\n",
        "Check if two sets have any elements in common. If yes, display the common elements\n",
        "\n",
        "Given:\n",
        "\n",
        "`set1 = {10, 20, 30, 40, 50}`\n",
        "\n",
        "`set2 = {60, 70, 80, 90, 10}`\n",
        "\n",
        "Expected output: `{10}`\n",
        "\n",
        "**HINT**: *set method and conditional statement will do the workings for you.*"
      ]
    },
    {
      "cell_type": "code",
      "execution_count": 16,
      "metadata": {
        "id": "XX-AE9QibBfn"
      },
      "outputs": [
        {
          "name": "stdout",
          "output_type": "stream",
          "text": [
            "{10}\n"
          ]
        }
      ],
      "source": [
        "# SOLUTION\n",
        "set1 = {10, 20, 30, 40, 50}\n",
        "set2 = {60, 70, 80, 90, 10}\n",
        "\n",
        "# Finding common elements using intersection\n",
        "common_elements = set1.intersection(set2)\n",
        "\n",
        "# Checking if there are any common elements and print them\n",
        "if common_elements:\n",
        "    print(common_elements)\n",
        "else:\n",
        "    print(\"No common elements\")\n"
      ]
    }
  ],
  "metadata": {
    "colab": {
      "provenance": []
    },
    "kernelspec": {
      "display_name": "Python 3",
      "name": "python3"
    },
    "language_info": {
      "codemirror_mode": {
        "name": "ipython",
        "version": 3
      },
      "file_extension": ".py",
      "mimetype": "text/x-python",
      "name": "python",
      "nbconvert_exporter": "python",
      "pygments_lexer": "ipython3",
      "version": "3.11.0"
    }
  },
  "nbformat": 4,
  "nbformat_minor": 0
}
